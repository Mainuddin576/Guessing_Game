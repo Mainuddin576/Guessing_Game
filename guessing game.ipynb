{
 "cells": [
  {
   "cell_type": "code",
   "execution_count": 1,
   "id": "d6298e40-ae66-4270-9745-6bc816c32751",
   "metadata": {},
   "outputs": [],
   "source": [
    "import random    "
   ]
  },
  {
   "cell_type": "code",
   "execution_count": 6,
   "id": "3f13e22b-579c-4175-b06a-b1cec3643027",
   "metadata": {},
   "outputs": [
    {
     "data": {
      "text/plain": [
       "100"
      ]
     },
     "execution_count": 6,
     "metadata": {},
     "output_type": "execute_result"
    }
   ],
   "source": [
    "random.randint(1,100)"
   ]
  },
  {
   "cell_type": "code",
   "execution_count": null,
   "id": "41e774fc-9bca-4a9f-ab3e-9c29510f028d",
   "metadata": {},
   "outputs": [],
   "source": [
    "jackpot=random.randint(1,100)\n",
    "guess=int(input(\"chal gues kar\"))\n",
    "counter=1\n",
    "while guess != jackpot:\n",
    "    if guess<jackpot:\n",
    "        print(\"guess higher\")\n",
    "    else:\n",
    "        print(\"guess lower\")\n",
    "\n",
    "    guess=int(input(\"chal gues kar\"))\n",
    "    counter +=1\n",
    "print(\"sahi jawab\")\n",
    "print(\"You took \",counter,\"attempts\")"
   ]
  },
  {
   "cell_type": "code",
   "execution_count": null,
   "id": "a8c56bd7-fb23-4ce8-9a69-e643baa908ee",
   "metadata": {},
   "outputs": [],
   "source": []
  }
 ],
 "metadata": {
  "kernelspec": {
   "display_name": "Python 3 (ipykernel)",
   "language": "python",
   "name": "python3"
  },
  "language_info": {
   "codemirror_mode": {
    "name": "ipython",
    "version": 3
   },
   "file_extension": ".py",
   "mimetype": "text/x-python",
   "name": "python",
   "nbconvert_exporter": "python",
   "pygments_lexer": "ipython3",
   "version": "3.13.5"
  }
 },
 "nbformat": 4,
 "nbformat_minor": 5
}
